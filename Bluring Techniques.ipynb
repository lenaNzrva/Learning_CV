{
 "cells": [
  {
   "cell_type": "markdown",
   "metadata": {},
   "source": [
    "# Bluring Techniques"
   ]
  },
  {
   "cell_type": "code",
   "execution_count": 5,
   "metadata": {},
   "outputs": [],
   "source": [
    "import cv2 as cv\n",
    "\n",
    "img = cv.imread('Photos/cats.jpg')\n",
    "\n",
    "average = cv.blur(img, (3,3))\n",
    "gaus = cv.GaussianBlur(img, (3,3), 0)\n",
    "median = cv.medianBlur(img, 3)\n",
    "bilateral = cv.bilateralFilter(img,9,75,75)\n",
    "\n",
    "cv.imshow('Cats', img)\n",
    "cv.imshow('Average', average)\n",
    "cv.imshow('Gaussian', gaus)\n",
    "cv.imshow('Median', median)\n",
    "cv.imshow('Bilateral', bilateral)\n",
    "\n",
    "cv.waitKey(0)\n",
    "cv.destroyAllWindows()"
   ]
  }
 ],
 "metadata": {
  "kernelspec": {
   "display_name": "Python 3",
   "language": "python",
   "name": "python3"
  },
  "language_info": {
   "codemirror_mode": {
    "name": "ipython",
    "version": 3
   },
   "file_extension": ".py",
   "mimetype": "text/x-python",
   "name": "python",
   "nbconvert_exporter": "python",
   "pygments_lexer": "ipython3",
   "version": "3.8.5"
  }
 },
 "nbformat": 4,
 "nbformat_minor": 4
}
