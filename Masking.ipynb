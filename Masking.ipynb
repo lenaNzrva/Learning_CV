{
 "cells": [
  {
   "cell_type": "markdown",
   "metadata": {},
   "source": [
    "# Masking\n",
    "\n",
    "Allows us focus to surtain part of the image that we would like to focus on\n",
    "\n",
    "For ex, if we have the pictures with people and we wolud like to focus on the faces"
   ]
  },
  {
   "cell_type": "code",
   "execution_count": 1,
   "metadata": {},
   "outputs": [],
   "source": [
    "import cv2 as cv\n",
    "import numpy as np\n",
    "\n",
    "img = cv.imread('Photos/cats.jpg')\n",
    "blank = np.zeros((img.shape[:2]), 'uint8')\n",
    "mask_c = cv.circle(blank.copy(), (img.shape[1]//2 - 45, img.shape[0]//2 + 45), 60, 255, -1)\n",
    "masked = cv.bitwise_and(img, img, mask = mask_c)"
   ]
  },
  {
   "cell_type": "code",
   "execution_count": 2,
   "metadata": {},
   "outputs": [],
   "source": [
    "cv.imshow('Cats', img)\n",
    "# cv.imshow('Blank', blank)\n",
    "# cv.imshow('Circle Mask', mask_c)\n",
    "cv.imshow('Masked', masked)\n",
    "\n",
    "cv.waitKey(0)\n",
    "cv.destroyAllWindows()"
   ]
  },
  {
   "cell_type": "code",
   "execution_count": 3,
   "metadata": {},
   "outputs": [],
   "source": [
    "mask_c_2 = cv.circle(blank.copy(), (img.shape[1]//2 + 45, img.shape[0]//2 + 15), 60, 255, -1)\n",
    "mask_r = cv.rectangle(blank.copy(), (img.shape[1]//2 + 15, img.shape[0]//2 + 15), (img.shape[1]//2 + 150, img.shape[0]//2 + 150), 255, -1)\n",
    "\n",
    "wierd_mask = cv.bitwise_and(mask_c_2, mask_r)\n",
    "wierd_masked = cv.bitwise_and(img, img, mask = wierd_mask)\n",
    "\n",
    "# cv.imshow('wierd_mask', wierd_mask)\n",
    "# cv.imshow('mask_c_2', mask_c_2)\n",
    "# cv.imshow('mask_r', mask_r)\n",
    "cv.imshow('Cats', img)\n",
    "cv.imshow('Wierd Masked', wierd_masked)\n",
    "\n",
    "\n",
    "cv.waitKey(0)\n",
    "cv.destroyAllWindows()"
   ]
  },
  {
   "cell_type": "code",
   "execution_count": null,
   "metadata": {},
   "outputs": [],
   "source": []
  }
 ],
 "metadata": {
  "kernelspec": {
   "display_name": "Python 3",
   "language": "python",
   "name": "python3"
  },
  "language_info": {
   "codemirror_mode": {
    "name": "ipython",
    "version": 3
   },
   "file_extension": ".py",
   "mimetype": "text/x-python",
   "name": "python",
   "nbconvert_exporter": "python",
   "pygments_lexer": "ipython3",
   "version": "3.8.5"
  }
 },
 "nbformat": 4,
 "nbformat_minor": 4
}
