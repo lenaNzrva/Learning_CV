{
 "cells": [
  {
   "cell_type": "code",
   "execution_count": 23,
   "metadata": {},
   "outputs": [],
   "source": [
    "import mediapipe as mp\n",
    "import cv2\n",
    "\n",
    "veb = cv2.VideoCapture(0)\n",
    "\n",
    "mpHands = mp.solutions.hands\n",
    "hands = mpHands.Hands(max_num_hands = 1)\n",
    "mpDraw = mp.solutions.drawing_utils\n",
    "\n",
    "\n",
    "\n",
    "while True:\n",
    "    isTrue, frame = veb.read()\n",
    "#     frame = cv2.flip(frame, 1)\n",
    "    frameRGB = cv2.cvtColor(frame, cv2.COLOR_BGR2RGB) #Cause mpHands.Hands() get only RGB format\n",
    "    result = hands.process(frameRGB)\n",
    "    center = (320, 240)\n",
    "    radius = 40\n",
    "    cv2.circle(frame, center, radius, (255, 0, 255), 4)\n",
    "    \n",
    "#     #to check how many hands detected without showing. According to our condition max count of hands: 2\n",
    "\n",
    "    if result.multi_hand_landmarks:\n",
    "        for i in result.multi_hand_landmarks:\n",
    "            for lm_id, lm in enumerate(i.landmark):\n",
    "                h, w, c = frame.shape\n",
    "                cx, cy = int(lm.x*w), int(lm.y*h)\n",
    "                    \n",
    "                if lm_id == 8:\n",
    "                    cv2.circle(frame, (cx, cy), 7, (0, 0, 255), cv2.FILLED)\n",
    "                \n",
    "                    if center[0]-radius <= cx <= center[0]+radius and center[1]-radius <= cy <= center[1]+radius:\n",
    "                        cv2.circle(frame, center, radius, (255, 0, 0), 4)\n",
    "    \n",
    "                    \n",
    "            mpDraw.draw_landmarks(frame, i, mpHands.HAND_CONNECTIONS)\n",
    "            \n",
    "    \n",
    "    cv2.imshow(' ', frame)\n",
    "    if cv2.waitKey(20) & 0xFF==ord('d'):\n",
    "        cv2.destroyAllWindows()\n",
    "        break "
   ]
  }
 ],
 "metadata": {
  "kernelspec": {
   "display_name": "Python 3",
   "language": "python",
   "name": "python3"
  },
  "language_info": {
   "codemirror_mode": {
    "name": "ipython",
    "version": 3
   },
   "file_extension": ".py",
   "mimetype": "text/x-python",
   "name": "python",
   "nbconvert_exporter": "python",
   "pygments_lexer": "ipython3",
   "version": "3.8.5"
  }
 },
 "nbformat": 4,
 "nbformat_minor": 4
}
