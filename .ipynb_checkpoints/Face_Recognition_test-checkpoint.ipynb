{
 "cells": [
  {
   "cell_type": "markdown",
   "metadata": {},
   "source": [
    "# Face_Recognition_test"
   ]
  },
  {
   "cell_type": "code",
   "execution_count": 1,
   "metadata": {},
   "outputs": [],
   "source": [
    "import numpy as np\n",
    "import cv2 as cv\n",
    "import os\n",
    "\n",
    "people = []\n",
    "for i in os.listdir(r'Faces\\train'):\n",
    "    people.append(i)"
   ]
  },
  {
   "cell_type": "code",
   "execution_count": 4,
   "metadata": {},
   "outputs": [],
   "source": [
    "# Загрузили наши фичи, лейблы, прочитали фейс_рекогнайзер, который будем использовать\n",
    "\n",
    "\n",
    "haar_cascade = cv.CascadeClassifier('haar_face.xml')\n",
    "# features = np.load('features.npy', allow_pickle=True)\n",
    "# labels = np.load('labels.npy')\n",
    "\n",
    "face_recognizer = cv.face.LBPHFaceRecognizer_create()\n",
    "face_recognizer.read('face_trained.yml')\n",
    "\n",
    "#Загрузили тестовую картинку и показали ее и конвертнули в серый\n",
    "img = cv.imread('Faces/val/ben_afflek/5.jpg')\n",
    "gray = cv.cvtColor(img, cv.COLOR_BGR2GRAY)\n",
    "\n",
    "cv.imshow('Person', img)\n",
    "cv.imshow('Person Gray', gray)\n",
    "\n",
    "cv.waitKey(0)\n",
    "cv.destroyAllWindows()"
   ]
  },
  {
   "cell_type": "code",
   "execution_count": 5,
   "metadata": {},
   "outputs": [
    {
     "name": "stdout",
     "output_type": "stream",
     "text": [
      "Label: 0\n",
      "Name: Ben Afflek\n",
      "Confidence: 94.11855589200476\n"
     ]
    }
   ],
   "source": [
    "# Первое что мы сделаем - это обнаружим лицо на картинке\n",
    "\n",
    "faces_rect = haar_cascade.detectMultiScale(gray, 1.1, 4)\n",
    "\n",
    "for (x,y,w,h) in faces_rect:\n",
    "    faces_roi = gray[y:y+h, x:x+w]\n",
    "    \n",
    "#     cv.imshow('Cut_faces', faces_roi)\n",
    "#     cv.waitKey(0)\n",
    "#     cv.destroyAllWindows()\n",
    "    \n",
    "    #predict\n",
    "    label, confidence = face_recognizer.predict(faces_roi)\n",
    "    \n",
    "    print(f'Label: {label}')\n",
    "    print(f'Name: {people[label]}')\n",
    "    print(f'Confidence: {confidence}')\n",
    "    \n",
    "    cv.putText(img, str(people[label]), (20,20), cv.FONT_HERSHEY_COMPLEX, 1.0, (0, 255, 0), 2)\n",
    "    cv.rectangle(img, (x,y), (x+w, y+h), (0, 255,0), 1)\n",
    "\n",
    "cv.imshow('Detected Face', img)\n",
    "cv.waitKey(0)\n",
    "cv.destroyAllWindows()"
   ]
  },
  {
   "cell_type": "code",
   "execution_count": null,
   "metadata": {},
   "outputs": [],
   "source": []
  }
 ],
 "metadata": {
  "kernelspec": {
   "display_name": "Python 3",
   "language": "python",
   "name": "python3"
  },
  "language_info": {
   "codemirror_mode": {
    "name": "ipython",
    "version": 3
   },
   "file_extension": ".py",
   "mimetype": "text/x-python",
   "name": "python",
   "nbconvert_exporter": "python",
   "pygments_lexer": "ipython3",
   "version": "3.8.5"
  }
 },
 "nbformat": 4,
 "nbformat_minor": 4
}
