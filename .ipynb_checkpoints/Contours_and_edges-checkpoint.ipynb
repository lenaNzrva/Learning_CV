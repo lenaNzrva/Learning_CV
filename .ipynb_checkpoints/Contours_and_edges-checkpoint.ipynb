{
 "cells": [
  {
   "cell_type": "code",
   "execution_count": 1,
   "metadata": {},
   "outputs": [],
   "source": [
    "import cv2 as cv\n",
    "import numpy as np\n",
    "\n",
    "img = cv.imread('Photos/cats.jpg')"
   ]
  },
  {
   "cell_type": "code",
   "execution_count": 3,
   "metadata": {},
   "outputs": [],
   "source": [
    "#Все преобразования\n",
    "gray = cv.cvtColor(img, cv.COLOR_BGR2GRAY)\n",
    "blur = cv.GaussianBlur(gray,(5,5),0)\n",
    "canny = cv.Canny(blur,100, 255)\n",
    "contours_1, hierarchy_1 = cv.findContours(canny, cv.RETR_LIST , cv.CHAIN_APPROX_SIMPLE)\n",
    "\n",
    "blank = np.zeros((img.shape))\n",
    "\n",
    "ret,thresh = cv.threshold(gray,127,255,cv.THRESH_BINARY)\n",
    "contours_2, hierarchy_2 = cv.findContours(thresh, cv.RETR_LIST , cv.CHAIN_APPROX_SIMPLE)"
   ]
  },
  {
   "cell_type": "code",
   "execution_count": 6,
   "metadata": {},
   "outputs": [],
   "source": [
    "# Первый пример нахождения контуров\n",
    "\n",
    "cv.imshow('Cats', img)\n",
    "# cv.imshow('Cats Gray', gray)\n",
    "# cv.imshow('Cats Blur', blur)\n",
    "# cv.imshow('Cats Canny', canny)\n",
    "cv.imshow('Blank', blank)\n",
    "# cv.imshow('Contours', cont)\n",
    "cv.drawContours(blank, contours_1, -1, (0,255,0), 1)\n",
    "\n",
    "cv.waitKey(0)\n",
    "cv.destroyAllWindows()"
   ]
  },
  {
   "cell_type": "code",
   "execution_count": 7,
   "metadata": {},
   "outputs": [],
   "source": [
    "# Второй пример нахождения контуров\n",
    "\n",
    "cv.imshow('Cats', img)\n",
    "# cv.imshow('Cats Tresh', thresh)\n",
    "cv.imshow('Blank', blank)\n",
    "cv.drawContours(blank, contours_2, 0, (0,255,0), 1)\n",
    "\n",
    "cv.waitKey(0)\n",
    "cv.destroyAllWindows()"
   ]
  }
 ],
 "metadata": {
  "kernelspec": {
   "display_name": "Python 3",
   "language": "python",
   "name": "python3"
  },
  "language_info": {
   "codemirror_mode": {
    "name": "ipython",
    "version": 3
   },
   "file_extension": ".py",
   "mimetype": "text/x-python",
   "name": "python",
   "nbconvert_exporter": "python",
   "pygments_lexer": "ipython3",
   "version": "3.8.5"
  }
 },
 "nbformat": 4,
 "nbformat_minor": 4
}
