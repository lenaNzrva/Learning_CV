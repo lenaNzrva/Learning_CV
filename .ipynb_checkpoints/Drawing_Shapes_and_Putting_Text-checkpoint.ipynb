{
 "cells": [
  {
   "cell_type": "markdown",
   "metadata": {},
   "source": [
    "# Drawing Shapes & Putting Text"
   ]
  },
  {
   "cell_type": "code",
   "execution_count": 1,
   "metadata": {},
   "outputs": [],
   "source": [
    "import cv2 as cv\n",
    "import numpy as np"
   ]
  },
  {
   "cell_type": "markdown",
   "metadata": {},
   "source": [
    "Draw a Rectangle"
   ]
  },
  {
   "cell_type": "code",
   "execution_count": 2,
   "metadata": {},
   "outputs": [],
   "source": [
    "blank = np.zeros((500, 500, 3), dtype='uint8')\n",
    "cv.imshow('Black', blank)\n",
    "\n",
    "blank[200:300, 300:400] = 0, 250, 0\n",
    "cv.imshow('Green Box', blank)\n",
    "\n",
    "a = cv.rectangle(blank, (0,0), (250,250), (250,0,0), thickness=2)\n",
    "cv.imshow('Rectangle', a)\n",
    "\n",
    "b = cv.rectangle(blank, (450,450), (500,500), (0,0,255), thickness=cv.FILLED)\n",
    "cv.imshow('Rectangle_filled', b)\n",
    "\n",
    "c = cv.rectangle(blank, (0,500), (blank.shape[1]//10, blank.shape[0]//10), (192, 11, 93), thickness=-1)\n",
    "cv.imshow('Rectangle_filled_2', b)\n",
    "\n",
    "cv.waitKey(0)\n",
    "cv.destroyAllWindows()"
   ]
  },
  {
   "cell_type": "markdown",
   "metadata": {},
   "source": [
    "Draw a circle"
   ]
  },
  {
   "cell_type": "code",
   "execution_count": 3,
   "metadata": {},
   "outputs": [],
   "source": [
    "blank = np.zeros((500, 500, 3), dtype='uint8')\n",
    "cv.imshow('Black', blank)\n",
    "\n",
    "cv.circle(blank, (250,250), 70, (16,29,99), thickness=2)\n",
    "cv.imshow('Circle', blank)\n",
    "\n",
    "cv.waitKey(0)\n",
    "cv.destroyAllWindows()"
   ]
  },
  {
   "cell_type": "markdown",
   "metadata": {},
   "source": [
    "Draw a line"
   ]
  },
  {
   "cell_type": "code",
   "execution_count": 4,
   "metadata": {},
   "outputs": [],
   "source": [
    "blank = np.zeros((500, 500, 3), dtype='uint8')\n",
    "cv.imshow('Black', blank)\n",
    "\n",
    "cv.line(blank, (20, 30), (150, 150), (89, 156, 203), thickness = 3)\n",
    "cv.imshow('Line', blank)\n",
    "\n",
    "cv.waitKey(0)\n",
    "cv.destroyAllWindows()"
   ]
  },
  {
   "cell_type": "markdown",
   "metadata": {},
   "source": [
    "Write text on the image"
   ]
  },
  {
   "cell_type": "code",
   "execution_count": 3,
   "metadata": {},
   "outputs": [],
   "source": [
    "blank = np.zeros((500, 500, 3), dtype='uint8')\n",
    "cv.imshow('Black', blank)\n",
    "\n",
    "cv.putText(blank, 'Hello', (250,250), cv.FONT_HERSHEY_SIMPLEX, 1.0, (201, 196, 21), 1)\n",
    "cv.imshow('Black', blank)\n",
    "\n",
    "cv.waitKey(0)\n",
    "cv.destroyAllWindows()"
   ]
  }
 ],
 "metadata": {
  "kernelspec": {
   "display_name": "Python 3",
   "language": "python",
   "name": "python3"
  },
  "language_info": {
   "codemirror_mode": {
    "name": "ipython",
    "version": 3
   },
   "file_extension": ".py",
   "mimetype": "text/x-python",
   "name": "python",
   "nbconvert_exporter": "python",
   "pygments_lexer": "ipython3",
   "version": "3.8.5"
  }
 },
 "nbformat": 4,
 "nbformat_minor": 4
}
