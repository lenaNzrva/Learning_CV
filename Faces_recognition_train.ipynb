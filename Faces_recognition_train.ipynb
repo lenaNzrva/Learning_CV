{
 "cells": [
  {
   "cell_type": "markdown",
   "metadata": {},
   "source": [
    "# Face recognition"
   ]
  },
  {
   "cell_type": "code",
   "execution_count": 1,
   "metadata": {},
   "outputs": [],
   "source": [
    "import os\n",
    "import cv2 as cv\n",
    "import numpy as np\n",
    "\n",
    "people = []\n",
    "for i in os.listdir(r'Faces\\train'):\n",
    "    people.append(i)\n",
    "\n",
    "DIR = r'Faces\\train'\n",
    "haar_cascade = cv.CascadeClassifier('haar_face.xml')\n",
    "features = []\n",
    "labels = []\n",
    "\n",
    "def create_train():\n",
    "    for person in people:\n",
    "        path = os.path.join(DIR, person)\n",
    "        label = people.index(person)\n",
    "        \n",
    "        for img in os.listdir(path):\n",
    "            img_path = os.path.join(path, img)\n",
    "            \n",
    "            img_array = cv.imread(img_path)\n",
    "            gray = cv.cvtColor(img_array, cv.COLOR_BGR2GRAY)\n",
    "            faces_rect = haar_cascade.detectMultiScale(gray, scaleFactor = 1.1, minNeighbors = 4)\n",
    "            \n",
    "            for (x,y,w,h) in faces_rect:\n",
    "                faces_roi = gray[y:y+h,x:x+w]\n",
    "                features.append(faces_roi)\n",
    "                labels.append(label) # Index"
   ]
  },
  {
   "cell_type": "code",
   "execution_count": 2,
   "metadata": {},
   "outputs": [
    {
     "name": "stdout",
     "output_type": "stream",
     "text": [
      "Number of the features 100\n",
      "Number of the labels 100\n"
     ]
    }
   ],
   "source": [
    "#Запускаем функцию и смотрим сколько лиц определил нам алгоритм\n",
    "\n",
    "create_train()\n",
    "\n",
    "print(f'Number of the features {len(features)}')\n",
    "print(f'Number of the labels {len(labels)}')"
   ]
  },
  {
   "cell_type": "code",
   "execution_count": 3,
   "metadata": {},
   "outputs": [],
   "source": [
    "# #Show all features\n",
    "\n",
    "# for i in range(100):\n",
    "#     cv.imshow('Person', features[i])\n",
    "#     cv.waitKey(0)\n",
    "#     cv.destroyAllWindows()"
   ]
  },
  {
   "cell_type": "markdown",
   "metadata": {},
   "source": [
    "### Train"
   ]
  },
  {
   "cell_type": "code",
   "execution_count": 4,
   "metadata": {},
   "outputs": [],
   "source": [
    "features = np.array(features, dtype='object')\n",
    "labels = np.array(labels)\n",
    "face_recognizer = cv.face.LBPHFaceRecognizer_create()\n",
    "\n",
    "#Train the recognizer on the features list and the labels\n",
    "face_recognizer.train(features,labels)\n",
    "\n",
    "face_recognizer.save('face_trained.yml')\n",
    "np.save('features.npy', features)\n",
    "np.save('labels.npy', labels)"
   ]
  }
 ],
 "metadata": {
  "kernelspec": {
   "display_name": "Python 3",
   "language": "python",
   "name": "python3"
  },
  "language_info": {
   "codemirror_mode": {
    "name": "ipython",
    "version": 3
   },
   "file_extension": ".py",
   "mimetype": "text/x-python",
   "name": "python",
   "nbconvert_exporter": "python",
   "pygments_lexer": "ipython3",
   "version": "3.8.5"
  }
 },
 "nbformat": 4,
 "nbformat_minor": 4
}
