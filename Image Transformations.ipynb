{
 "cells": [
  {
   "cell_type": "markdown",
   "metadata": {},
   "source": [
    "# Image Transformations"
   ]
  },
  {
   "cell_type": "code",
   "execution_count": 1,
   "metadata": {},
   "outputs": [],
   "source": [
    "import cv2 as cv\n",
    "import numpy as np\n",
    "from math import sin\n",
    "from math import cos"
   ]
  },
  {
   "cell_type": "code",
   "execution_count": 2,
   "metadata": {},
   "outputs": [],
   "source": [
    "img = cv.imread('Photos/park.jpg')"
   ]
  },
  {
   "cell_type": "markdown",
   "metadata": {},
   "source": [
    "Translation\n",
    "\n",
    "Shift the image along the x,y axis. Up, down, left, right"
   ]
  },
  {
   "cell_type": "code",
   "execution_count": 3,
   "metadata": {},
   "outputs": [],
   "source": [
    "def translation(img,x,y):\n",
    "    M = np.float32([[cos(0), -sin(0), x],[sin(0), cos(0), y]]) #translationMatrix\n",
    "    dim = (img.shape[1], img.shape[0])\n",
    "    \n",
    "    return cv.warpAffine(img, M, dim)\n",
    "\n",
    "#-x Left\n",
    "#x Right\n",
    "#-y Up\n",
    "#y Down\n",
    "\n",
    "translated = translation(img, 100, 100)\n",
    "\n",
    "cv.imshow('park', img)\n",
    "cv.imshow('park_tr', translated)\n",
    "\n",
    "cv.waitKey(0)\n",
    "cv.destroyAllWindows()"
   ]
  },
  {
   "cell_type": "markdown",
   "metadata": {},
   "source": [
    "Rotation"
   ]
  },
  {
   "cell_type": "code",
   "execution_count": 6,
   "metadata": {},
   "outputs": [],
   "source": [
    "def rotation(img, angle, midPoint = None):\n",
    "    (weight, hight) = (img.shape[1], img.shape[0])\n",
    "    \n",
    "    if midPoint == None:\n",
    "        midPoint = (img.shape[1]//2, img.shape[0]//2)\n",
    "        \n",
    "    rotMatrix = cv.getRotationMatrix2D(midPoint, angle, 1) \n",
    "    dim = (weight, hight)\n",
    "    \n",
    "    return cv.warpAffine(img, rotMatrix, dim)\n",
    "\n",
    "rot = rotation(img, -30)\n",
    "\n",
    "cv.imshow('park', img)\n",
    "cv.imshow('park_rot', rot)\n",
    "\n",
    "cv.waitKey(0)\n",
    "cv.destroyAllWindows()"
   ]
  },
  {
   "cell_type": "markdown",
   "metadata": {},
   "source": [
    "Resizing"
   ]
  },
  {
   "cell_type": "code",
   "execution_count": 13,
   "metadata": {},
   "outputs": [],
   "source": [
    "resized_1 = cv.resize(img, (250, 250), interpolation = cv.INTER_CUBIC)\n",
    "resized_2 = cv.resize(img, (1000, 1000), interpolation = cv.INTER_CUBIC)\n",
    "\n",
    "cv.imshow('img', img)\n",
    "cv.imshow('img_res_1', resized_1)\n",
    "cv.imshow('img_res_2', resized_2)\n",
    "\n",
    "cv.waitKey(0)\n",
    "cv.destroyAllWindows()"
   ]
  },
  {
   "cell_type": "markdown",
   "metadata": {},
   "source": [
    "Flipping"
   ]
  },
  {
   "cell_type": "code",
   "execution_count": 19,
   "metadata": {},
   "outputs": [],
   "source": [
    "flipping_1 = cv.flip(img, 0)\n",
    "flipping_2 = cv.flip(img, 1)\n",
    "flipping_3 = cv.flip(img, -1)\n",
    "\n",
    "cv.imshow('img', img)\n",
    "cv.imshow('img_flip_1', flipping_1)\n",
    "cv.imshow('img_flip_2', flipping_2)\n",
    "cv.imshow('img_flip_3', flipping_3)\n",
    "\n",
    "cv.waitKey(0)\n",
    "cv.destroyAllWindows()"
   ]
  },
  {
   "cell_type": "markdown",
   "metadata": {},
   "source": [
    "Cropped"
   ]
  },
  {
   "cell_type": "code",
   "execution_count": 21,
   "metadata": {},
   "outputs": [],
   "source": [
    "crop = img[200:300, 300:400]\n",
    "\n",
    "cv.imshow('img', img)\n",
    "cv.imshow('crop', crop)\n",
    "\n",
    "cv.waitKey(0)\n",
    "cv.destroyAllWindows()"
   ]
  }
 ],
 "metadata": {
  "kernelspec": {
   "display_name": "Python 3",
   "language": "python",
   "name": "python3"
  },
  "language_info": {
   "codemirror_mode": {
    "name": "ipython",
    "version": 3
   },
   "file_extension": ".py",
   "mimetype": "text/x-python",
   "name": "python",
   "nbconvert_exporter": "python",
   "pygments_lexer": "ipython3",
   "version": "3.8.5"
  }
 },
 "nbformat": 4,
 "nbformat_minor": 4
}
