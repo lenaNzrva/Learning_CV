{
 "cells": [
  {
   "cell_type": "code",
   "execution_count": 2,
   "id": "a765c6f0",
   "metadata": {},
   "outputs": [],
   "source": [
    "import numpy as np\n",
    "import argparse\n",
    "import imutils\n",
    "import cv2\n",
    "\n",
    "img = cv2.imread('Cat.jpg')"
   ]
  },
  {
   "cell_type": "code",
   "execution_count": 4,
   "id": "213291e5",
   "metadata": {},
   "outputs": [],
   "source": [
    "for angle in np.arange(0, 375, 15):\n",
    "    img_r = imutils.rotate(img, angle)\n",
    "    \n",
    "    cv2.imshow(\"Rotated Cat: Not right\", img_r)\n",
    "    cv2.waitKey()\n",
    "    \n",
    "\n",
    "cv2.destroyAllWindows()"
   ]
  },
  {
   "cell_type": "code",
   "execution_count": 8,
   "id": "59f7bb4b",
   "metadata": {},
   "outputs": [],
   "source": [
    "for angle in np.arange(0, 375, 15):\n",
    "    img_r = imutils.rotate_bound(img, angle)\n",
    "    cv2.imshow(\"Rotated Cat: Right\", img_r)\n",
    "    cv2.waitKey()\n",
    "\n",
    "cv2.destroyAllWindows()"
   ]
  }
 ],
 "metadata": {
  "kernelspec": {
   "display_name": "Python 3",
   "language": "python",
   "name": "python3"
  }
 },
 "nbformat": 4,
 "nbformat_minor": 5
}
