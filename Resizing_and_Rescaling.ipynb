{
 "cells": [
  {
   "cell_type": "code",
   "execution_count": 1,
   "metadata": {},
   "outputs": [],
   "source": [
    "import cv2 as cv\n",
    "import matplotlib.pyplot as plt"
   ]
  },
  {
   "cell_type": "markdown",
   "metadata": {},
   "source": [
    "# Resizing & Rescaling"
   ]
  },
  {
   "cell_type": "code",
   "execution_count": 2,
   "metadata": {},
   "outputs": [],
   "source": [
    "img = cv.imread('Photos/cat_large.jpg')\n",
    "capture = cv.VideoCapture('Videos/dog.mp4')"
   ]
  },
  {
   "cell_type": "code",
   "execution_count": 3,
   "metadata": {},
   "outputs": [
    {
     "name": "stdout",
     "output_type": "stream",
     "text": [
      "(1600, 2400, 3)\n",
      "Width: 2400\n",
      "Height: 1600\n",
      "RGB: 3\n"
     ]
    }
   ],
   "source": [
    "print(img.shape)\n",
    "print('Width: ' + str(img.shape[1]))\n",
    "print('Height: ' + str(img.shape[0]))\n",
    "print('RGB: ' + str(img.shape[2]))"
   ]
  },
  {
   "cell_type": "code",
   "execution_count": 4,
   "metadata": {},
   "outputs": [],
   "source": [
    "def rescaleFrame(frame, scale = 0.75):\n",
    "    #Works for images, videos, livevideos\n",
    "    width = int(frame.shape[1] * scale)\n",
    "    height = int(frame.shape[0] * scale)\n",
    "    new_dimentions = (width, height)\n",
    "    \n",
    "    return cv.resize(frame, new_dimentions, interpolation = cv.INTER_AREA)\n",
    "\n",
    "\n",
    "#Resized cat\n",
    "img_resized = rescaleFrame(img, 0.1)\n",
    "\n",
    "cv.imshow('Cat_large', img)\n",
    "cv.imshow('Cat_resized', img_resized)\n",
    "cv.waitKey(0)\n",
    "cv.destroyAllWindows()"
   ]
  },
  {
   "cell_type": "code",
   "execution_count": 5,
   "metadata": {},
   "outputs": [],
   "source": [
    "# #Resized dog video\n",
    "#But with 'try' works only one time, without it gie the error when the wideo ends\n",
    "while True:\n",
    "    try:\n",
    "        isTrue, frame = capture.read()\n",
    "        frame_resized = rescaleFrame(frame, 0.2)\n",
    "        \n",
    "        cv.imshow('Dog', frame)\n",
    "        cv.imshow('Dog_resized', frame_resized)\n",
    "\n",
    "        if cv.waitKey(20) & 0xFF==ord('d'):\n",
    "            cv.destroyAllWindows()\n",
    "            break\n",
    "            \n",
    "    except: break\n",
    "    \n",
    "capture.release()\n",
    "cv.destroyAllWindows()"
   ]
  },
  {
   "cell_type": "markdown",
   "metadata": {},
   "source": [
    "Work only with live video\n",
    "\n",
    "\n",
    "Resolution changing"
   ]
  },
  {
   "cell_type": "code",
   "execution_count": 20,
   "metadata": {},
   "outputs": [],
   "source": [
    "veb = cv.VideoCapture(0)\n",
    "\n",
    "def changeRes(widht, height):\n",
    "    #Live video\n",
    "    veb.set(3,widht)\n",
    "    veb.set(4,height)"
   ]
  }
 ],
 "metadata": {
  "kernelspec": {
   "display_name": "Python 3",
   "language": "python",
   "name": "python3"
  },
  "language_info": {
   "codemirror_mode": {
    "name": "ipython",
    "version": 3
   },
   "file_extension": ".py",
   "mimetype": "text/x-python",
   "name": "python",
   "nbconvert_exporter": "python",
   "pygments_lexer": "ipython3",
   "version": "3.8.5"
  }
 },
 "nbformat": 4,
 "nbformat_minor": 4
}
